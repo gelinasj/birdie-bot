{
 "cells": [
  {
   "cell_type": "code",
   "execution_count": 99,
   "metadata": {},
   "outputs": [],
   "source": [
    "import requests\n",
    "from bs4 import BeautifulSoup\n",
    "from selenium import webdriver # <- Need this installed to use\n",
    "import re"
   ]
  },
  {
   "cell_type": "code",
   "execution_count": 116,
   "metadata": {},
   "outputs": [],
   "source": [
    "def getSoup(url):\n",
    "    #driver = webdriver.Firefox() # <- we only use this line if we need to utilize selenium\n",
    "    page = requests.get(url)\n",
    "    #innerHTML = driver.execute_script(\"return document.body.innerHTML\")\n",
    "    soup = BeautifulSoup(page.content, \"lxml\")\n",
    "    #driver.close() # Selenium only\n",
    "    return(soup)\n",
    "def MichaelScraper(url):\n",
    "    soup = getSoup(url)\n",
    "    vec = soup.find_all('p')\n",
    "    epname = soup.find('h2').text\n",
    "    epname =  re.sub(\"/\", \"-\", epname)\n",
    "    epname =  re.sub(\"\\?\", \"\", epname)\n",
    "    epname =  re.sub(\"\\!\", \"\", epname)\n",
    "    epname =  re.sub(\"\\.\", \"\", epname)\n",
    "    epname =  re.sub(\"\\*\", \"\", epname)\n",
    "    lines = \"\"\n",
    "    for i in range(1,len(vec)):\n",
    "        strong = vec[i].find('strong')\n",
    "        works = strong != None\n",
    "        if works and (strong.text == \"Michael\"):\n",
    "            lines += vec[i].text[9:] + \"\\n\"\n",
    "    lines = re.sub(\"\\[.*\\]\", \"\", lines)\n",
    "    file = open(\"example_data/\" + epname, \"w+\")\n",
    "    file.write(lines)"
   ]
  },
  {
   "cell_type": "code",
   "execution_count": 118,
   "metadata": {
    "scrolled": false
   },
   "outputs": [],
   "source": [
    "page = \"https://transcripts.foreverdreaming.org/viewtopic.php?f=574&t=\"\n",
    "for i in range(25430, 25500):\n",
    "    url = page + str(i)\n",
    "    MichaelScraper(url)"
   ]
  },
  {
   "cell_type": "code",
   "execution_count": 117,
   "metadata": {},
   "outputs": [
    {
     "data": {
      "text/plain": [
       "25430"
      ]
     },
     "execution_count": 117,
     "metadata": {},
     "output_type": "execute_result"
    }
   ],
   "source": [
    "i"
   ]
  },
  {
   "cell_type": "code",
   "execution_count": 109,
   "metadata": {},
   "outputs": [
    {
     "data": {
      "text/plain": [
       "'sexy'"
      ]
     },
     "execution_count": 109,
     "metadata": {},
     "output_type": "execute_result"
    }
   ],
   "source": [
    "st = \"sex/y\"\n",
    "st = re.sub(\"/\", \"\", st)\n",
    "st"
   ]
  }
 ],
 "metadata": {
  "kernelspec": {
   "display_name": "Python 3",
   "language": "python",
   "name": "python3"
  },
  "language_info": {
   "codemirror_mode": {
    "name": "ipython",
    "version": 3
   },
   "file_extension": ".py",
   "mimetype": "text/x-python",
   "name": "python",
   "nbconvert_exporter": "python",
   "pygments_lexer": "ipython3",
   "version": "3.6.5"
  }
 },
 "nbformat": 4,
 "nbformat_minor": 2
}
